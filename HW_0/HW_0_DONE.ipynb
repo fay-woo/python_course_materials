{
 "cells": [
  {
   "cell_type": "markdown",
   "id": "4aae3dfe",
   "metadata": {},
   "source": [
    "## Вывод (std out)"
   ]
  },
  {
   "cell_type": "code",
   "execution_count": 1,
   "id": "19d51336",
   "metadata": {},
   "outputs": [
    {
     "name": "stdout",
     "output_type": "stream",
     "text": [
      "3, 4\n",
      "34\n"
     ]
    }
   ],
   "source": [
    "## Напишите программу, которая вводит строки без newline или space (не забудьте что print принимает сколько угодно аргументов)\n",
    "\n",
    "# Тестовые данные\n",
    "\n",
    "# 1, 5, 8, 3 -> 1583\n",
    "# 1, \"new\", 8, \"old\" -> 1new8old\n",
    "\n",
    "print(input().replace(\" \",'').replace(',',''))"
   ]
  },
  {
   "cell_type": "markdown",
   "id": "c6a2735e",
   "metadata": {},
   "source": [
    "## Арифметика "
   ]
  },
  {
   "cell_type": "code",
   "execution_count": 16,
   "id": "bc23a479",
   "metadata": {},
   "outputs": [
    {
     "name": "stdout",
     "output_type": "stream",
     "text": [
      "0\n",
      "0\n",
      "1\n",
      "1\n",
      "1.4142135623730951\n"
     ]
    }
   ],
   "source": [
    "## Расчитайте расстояние между двумя заданными точками (math.sqrt) заданными в двумерном пространстве\n",
    "\n",
    "# Тестовые данные\n",
    "\n",
    "# [0, 0], [1, 1] -> 1.4142135623730951\n",
    "# [0, 1], [1, 5] -> 4.123105625617661\n",
    "# [4, 1], [12, 5] -> 8.94427190999916\n",
    "import math\n",
    "\n",
    "point1 = []\n",
    "point2 = []\n",
    "for i in range(0,2):\n",
    "    point1.append(float(input()))\n",
    "for i in range(0,2):\n",
    "    point2.append(float(input()))\n",
    "print(math.sqrt(math.pow(point2[0]-point1[0],2) + math.pow(point2[1] - point1[1],2)))"
   ]
  },
  {
   "cell_type": "markdown",
   "id": "6c5d4192",
   "metadata": {},
   "source": [
    "# Списки"
   ]
  },
  {
   "cell_type": "code",
   "execution_count": 1,
   "id": "ace65e2e",
   "metadata": {},
   "outputs": [
    {
     "name": "stdout",
     "output_type": "stream",
     "text": [
      "0.1 is float\n",
      "1.6 is float\n",
      "0.3 is float\n",
      "2\n"
     ]
    }
   ],
   "source": [
    "## Посчитайте сумму элементов в списке (только тех, что чей тип float)\n",
    "\n",
    "# Тестовые данные\n",
    "\n",
    "color_list = [0.1,\"зеленый\", 1.6, \"белый\", 0.3, \"черный\", 7, \"2.0\"]\n",
    "\n",
    "summ = 0\n",
    "\n",
    "for n in color_list:\n",
    "    if type(n) is float:\n",
    "        summ = summ + n\n",
    "        print(str(n) + ' is float')\n",
    "print(int(summ))\n",
    "\n",
    "# ответ: 2"
   ]
  },
  {
   "cell_type": "code",
   "execution_count": 13,
   "id": "f5efd6f8",
   "metadata": {},
   "outputs": [
    {
     "name": "stdout",
     "output_type": "stream",
     "text": [
      "красный\n",
      "черный\n"
     ]
    }
   ],
   "source": [
    "## Отобразите с помощью print только первый и последний элемент списка (цикл while)\n",
    "\n",
    "# Тестовые данные\n",
    "\n",
    "color_list = [\"красный\",\"зеленый\",\"белый\" ,\"черный\"]\n",
    "\n",
    "\n",
    "# print(\"список: \" + str(color_list))\n",
    "# elements = [color_list[0], color_list[-1]]\n",
    "# print(\"первый и последний элементы: \" + str(elements))\n",
    "\n",
    "# по-моему так проще :) через while ниже: \n",
    "\n",
    "i = 0\n",
    "while i < len(color_list):\n",
    "    if i == 0 or i == len(color_list) - 1:\n",
    "        print(color_list[i])\n",
    "    i = i + 1\n"
   ]
  },
  {
   "cell_type": "code",
   "execution_count": 5,
   "id": "0120e466",
   "metadata": {
    "scrolled": true
   },
   "outputs": [
    {
     "name": "stdout",
     "output_type": "stream",
     "text": [
      "color\n",
      "Clear1\n",
      "Clear1\n",
      "Clear1\n",
      "Clear1\n",
      "Clear2\n",
      "Element color was found\n",
      "Clear2\n",
      "Clear2\n"
     ]
    }
   ],
   "source": [
    "## Проверьте есть ли данный элемент в списке, если есть выведите с помощью print \"Element такой то was found\", если элемента не нашлось выведите \"Clear\" (цикл while) \n",
    "\n",
    "# Тестовые данные\n",
    "\n",
    "# 3 -> [1, 5, 8, 3] -> \"Element 3 was found\"\n",
    "# -1 -> [1, 5, 8, 3] -> \"Clear\"\n",
    "# \"color\" -> [1, \"color\", 1.3, 3] ->  \"Element color was found\"\n",
    "\n",
    "list1 = [1, 5, 8, 3]\n",
    "list2 = [1, 'color', 1.3, 3]\n",
    "\n",
    "#x = input()\n",
    "\n",
    "#if x in list1 or x in list2:\n",
    "    #print('Element '+ str(x)+' was found')\n",
    "#else:\n",
    "    #print('Clear')\n",
    "# Так программа безотказно работает\n",
    "    \n",
    "b = 0\n",
    "x = input()\n",
    "\n",
    "while b < len(list1):\n",
    "    if x == str(list1[b]):\n",
    "        print('Element '+ str(x)+' was found')\n",
    "    else:\n",
    "        print('Clear1')\n",
    "    b += 1\n",
    "\n",
    "b = 0\n",
    "while b < len(list2):\n",
    "    if x == list2[b]:\n",
    "        print('Element '+str(x)+' was found')\n",
    "    else:\n",
    "        print('Clear2')\n",
    "    b += 1"
   ]
  },
  {
   "cell_type": "code",
   "execution_count": 1,
   "id": "824424aa",
   "metadata": {},
   "outputs": [
    {
     "name": "stdout",
     "output_type": "stream",
     "text": [
      "9 caMii  /\\y4LLIii proger v 2022 roDy\n"
     ]
    }
   ],
   "source": [
    "## Пройдите по списку и объедините все элементы из списка в одну строку через пробел (цикл while)\n",
    "\n",
    "# Тестовые данные\n",
    "\n",
    "# [\"9\", \"caMii\", \" /\\y4LLIii\", \"proger\", \"v\", \"2022\", \"roDy\"] -> 9 caMii  /\\y4LLIii proger v 2022 roDy\n",
    "\n",
    "list_prog = [\"9\", \"caMii\", \" /\\y4LLIii\", \"proger\", \"v\", \"2022\", \"roDy\"]\n",
    "\n",
    "u = 0\n",
    "res = ''\n",
    "while u < len(list_prog):\n",
    "    res = res + list_prog[u] + ' '\n",
    "    u += 1\n",
    "res = res[:-1]\n",
    "print(res)\n"
   ]
  },
  {
   "cell_type": "code",
   "execution_count": 7,
   "id": "1c52c4b8",
   "metadata": {},
   "outputs": [],
   "source": [
    "## Пройдите по двум списка сразу и выведите сразу по два элемента - один из одного списка, другой из другого \n",
    "## (подсказка - обращайтесь по индексу к элементам обоих списков)\n",
    "\n",
    "# Тестовые данные\n",
    "\n",
    "color_list_1 = [\"White\", \"Black\", \"Red\"]\n",
    "color_list_2 = [\"Red\", \"Green\", \"White\"]\n",
    "\n",
    "# White Red\n",
    "# Black Green\n",
    "# Red White"
   ]
  },
  {
   "cell_type": "code",
   "execution_count": 8,
   "id": "9d59ec07",
   "metadata": {},
   "outputs": [],
   "source": [
    "## Пройдите по списку и выводите каждый следующий элемент столько раз какой у него ((индекс + 1) * 3) в списке (цикл while) \n",
    "\n",
    "# Тестовые данные\n",
    "\n",
    "a = [\"a\", \"b\", \"c\", \"d\"] \n",
    "\n",
    "# ответ -> \"aaabbbbbbcccccccccdddddddddddd\""
   ]
  },
  {
   "cell_type": "code",
   "execution_count": 9,
   "id": "bfd569fd",
   "metadata": {},
   "outputs": [],
   "source": [
    "## Зайдите в каждый масив внутри (если это список) и рассортируйте мне элементы по соответствующим спискам (не забудьте про append)\n",
    "\n",
    "sample = [[\"a\", \"b\", 1, 2.4], \"string\", [\"new\", 11111, 1000.0, \"old\"]]\n",
    "\n",
    "\n",
    "integers = []\n",
    "floats = []\n",
    "strings = []\n",
    "\n",
    "# ответ\n",
    "# integers -> [1, 11111]\n",
    "# floats -> [2.4, 1000.0]\n",
    "# strings -> [\"a\", \"b\", \"string\", \"new\", \"old\"]"
   ]
  },
  {
   "cell_type": "markdown",
   "id": "4d785ec2",
   "metadata": {},
   "source": [
    "## Библиотеки "
   ]
  },
  {
   "cell_type": "code",
   "execution_count": 10,
   "id": "0937e5e0",
   "metadata": {},
   "outputs": [],
   "source": [
    "## Напишите программу, которая выводит настоящее время ( то есть в ремя в которую программа запущена, используйте либу - time) \n",
    "\n",
    "# Тестовые данные (например)\n",
    "\n",
    "# 'Sat Oct  1 00:34:36 2022'"
   ]
  }
 ],
 "metadata": {
  "kernelspec": {
   "display_name": "Python 3 (ipykernel)",
   "language": "python",
   "name": "python3"
  },
  "language_info": {
   "codemirror_mode": {
    "name": "ipython",
    "version": 3
   },
   "file_extension": ".py",
   "mimetype": "text/x-python",
   "name": "python",
   "nbconvert_exporter": "python",
   "pygments_lexer": "ipython3",
   "version": "3.9.12"
  }
 },
 "nbformat": 4,
 "nbformat_minor": 5
}
